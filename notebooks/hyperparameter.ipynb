{
 "cells": [
  {
   "cell_type": "code",
   "metadata": {
    "ExecuteTime": {
     "end_time": "2024-04-09T01:50:55.331027Z",
     "start_time": "2024-04-09T01:50:55.316375Z"
    }
   },
   "source": [
    "%load_ext autoreload\n",
    "%autoreload 2"
   ],
   "outputs": [],
   "execution_count": 1
  },
  {
   "cell_type": "code",
   "metadata": {
    "ExecuteTime": {
     "end_time": "2024-04-09T01:50:57.797638Z",
     "start_time": "2024-04-09T01:50:56.021632Z"
    }
   },
   "source": [
    "import os\n",
    "import matplotlib.pyplot as plt\n",
    "from tbparse import SummaryReader\n",
    "import torch\n",
    "os.chdir('../')\n",
    "print(os.getcwd())"
   ],
   "outputs": [
    {
     "name": "stdout",
     "output_type": "stream",
     "text": [
      "/Users/gbemidebe/Documents/GitHub/knnGuidedDesign\n"
     ]
    }
   ],
   "execution_count": 2
  },
  {
   "metadata": {
    "ExecuteTime": {
     "end_time": "2024-04-09T01:51:10.706666Z",
     "start_time": "2024-04-09T01:51:10.670441Z"
    }
   },
   "cell_type": "code",
   "source": [
    "from src.data.loader import load_auto_hp_params\n",
    "from src.viz.plotters import Parallel_Coordinates"
   ],
   "outputs": [],
   "execution_count": 4
  },
  {
   "cell_type": "code",
   "metadata": {
    "ExecuteTime": {
     "end_time": "2024-04-09T01:51:13.947049Z",
     "start_time": "2024-04-09T01:51:13.779442Z"
    }
   },
   "source": [
    "!pwd"
   ],
   "outputs": [
    {
     "name": "stdout",
     "output_type": "stream",
     "text": [
      "/Users/gbemidebe/Documents/GitHub/knnGuidedDesign\r\n"
     ]
    }
   ],
   "execution_count": 5
  },
  {
   "cell_type": "code",
   "metadata": {
    "ExecuteTime": {
     "end_time": "2024-04-09T02:08:22.464867Z",
     "start_time": "2024-04-09T02:08:22.254033Z"
    }
   },
   "source": [
    "log_dir = \"reports/lightning_logs/knnMoleculeVAE/version_1/\"\n",
    "reader = SummaryReader(log_dir, pivot=True)\n",
    "df = reader.scalars\n",
    "df"
   ],
   "outputs": [
    {
     "data": {
      "text/plain": [
       "     step                  epoch  hp_metric  train_loss_epoch  \\\n",
       "0       0                    NaN       -1.0               NaN   \n",
       "1       1                    NaN        NaN               NaN   \n",
       "2       2                    NaN        NaN               NaN   \n",
       "3       3                    NaN        NaN               NaN   \n",
       "4       4                    NaN        NaN               NaN   \n",
       "..    ...                    ...        ...               ...   \n",
       "847  2367         [295.0, 295.0]        NaN       1023.825195   \n",
       "848  2375         [296.0, 296.0]        NaN       1033.995483   \n",
       "849  2383         [297.0, 297.0]        NaN       1024.336548   \n",
       "850  2391         [298.0, 298.0]        NaN       1014.230957   \n",
       "851  2399  [299.0, 299.0, 299.0]        NaN       1010.192566   \n",
       "\n",
       "     train_loss_step  val_loss_epoch  val_loss_step  \n",
       "0                NaN             NaN   10809.890625  \n",
       "1                NaN             NaN    9811.266602  \n",
       "2                NaN             NaN   10819.225586  \n",
       "3                NaN             NaN    9819.029297  \n",
       "4                NaN             NaN   10819.308594  \n",
       "..               ...             ...            ...  \n",
       "847              NaN      935.030273            NaN  \n",
       "848              NaN      948.960938            NaN  \n",
       "849              NaN      940.963379            NaN  \n",
       "850              NaN      924.786743            NaN  \n",
       "851       569.071228      921.609131            NaN  \n",
       "\n",
       "[852 rows x 7 columns]"
      ],
      "text/html": [
       "<div>\n",
       "<style scoped>\n",
       "    .dataframe tbody tr th:only-of-type {\n",
       "        vertical-align: middle;\n",
       "    }\n",
       "\n",
       "    .dataframe tbody tr th {\n",
       "        vertical-align: top;\n",
       "    }\n",
       "\n",
       "    .dataframe thead th {\n",
       "        text-align: right;\n",
       "    }\n",
       "</style>\n",
       "<table border=\"1\" class=\"dataframe\">\n",
       "  <thead>\n",
       "    <tr style=\"text-align: right;\">\n",
       "      <th></th>\n",
       "      <th>step</th>\n",
       "      <th>epoch</th>\n",
       "      <th>hp_metric</th>\n",
       "      <th>train_loss_epoch</th>\n",
       "      <th>train_loss_step</th>\n",
       "      <th>val_loss_epoch</th>\n",
       "      <th>val_loss_step</th>\n",
       "    </tr>\n",
       "  </thead>\n",
       "  <tbody>\n",
       "    <tr>\n",
       "      <th>0</th>\n",
       "      <td>0</td>\n",
       "      <td>NaN</td>\n",
       "      <td>-1.0</td>\n",
       "      <td>NaN</td>\n",
       "      <td>NaN</td>\n",
       "      <td>NaN</td>\n",
       "      <td>10809.890625</td>\n",
       "    </tr>\n",
       "    <tr>\n",
       "      <th>1</th>\n",
       "      <td>1</td>\n",
       "      <td>NaN</td>\n",
       "      <td>NaN</td>\n",
       "      <td>NaN</td>\n",
       "      <td>NaN</td>\n",
       "      <td>NaN</td>\n",
       "      <td>9811.266602</td>\n",
       "    </tr>\n",
       "    <tr>\n",
       "      <th>2</th>\n",
       "      <td>2</td>\n",
       "      <td>NaN</td>\n",
       "      <td>NaN</td>\n",
       "      <td>NaN</td>\n",
       "      <td>NaN</td>\n",
       "      <td>NaN</td>\n",
       "      <td>10819.225586</td>\n",
       "    </tr>\n",
       "    <tr>\n",
       "      <th>3</th>\n",
       "      <td>3</td>\n",
       "      <td>NaN</td>\n",
       "      <td>NaN</td>\n",
       "      <td>NaN</td>\n",
       "      <td>NaN</td>\n",
       "      <td>NaN</td>\n",
       "      <td>9819.029297</td>\n",
       "    </tr>\n",
       "    <tr>\n",
       "      <th>4</th>\n",
       "      <td>4</td>\n",
       "      <td>NaN</td>\n",
       "      <td>NaN</td>\n",
       "      <td>NaN</td>\n",
       "      <td>NaN</td>\n",
       "      <td>NaN</td>\n",
       "      <td>10819.308594</td>\n",
       "    </tr>\n",
       "    <tr>\n",
       "      <th>...</th>\n",
       "      <td>...</td>\n",
       "      <td>...</td>\n",
       "      <td>...</td>\n",
       "      <td>...</td>\n",
       "      <td>...</td>\n",
       "      <td>...</td>\n",
       "      <td>...</td>\n",
       "    </tr>\n",
       "    <tr>\n",
       "      <th>847</th>\n",
       "      <td>2367</td>\n",
       "      <td>[295.0, 295.0]</td>\n",
       "      <td>NaN</td>\n",
       "      <td>1023.825195</td>\n",
       "      <td>NaN</td>\n",
       "      <td>935.030273</td>\n",
       "      <td>NaN</td>\n",
       "    </tr>\n",
       "    <tr>\n",
       "      <th>848</th>\n",
       "      <td>2375</td>\n",
       "      <td>[296.0, 296.0]</td>\n",
       "      <td>NaN</td>\n",
       "      <td>1033.995483</td>\n",
       "      <td>NaN</td>\n",
       "      <td>948.960938</td>\n",
       "      <td>NaN</td>\n",
       "    </tr>\n",
       "    <tr>\n",
       "      <th>849</th>\n",
       "      <td>2383</td>\n",
       "      <td>[297.0, 297.0]</td>\n",
       "      <td>NaN</td>\n",
       "      <td>1024.336548</td>\n",
       "      <td>NaN</td>\n",
       "      <td>940.963379</td>\n",
       "      <td>NaN</td>\n",
       "    </tr>\n",
       "    <tr>\n",
       "      <th>850</th>\n",
       "      <td>2391</td>\n",
       "      <td>[298.0, 298.0]</td>\n",
       "      <td>NaN</td>\n",
       "      <td>1014.230957</td>\n",
       "      <td>NaN</td>\n",
       "      <td>924.786743</td>\n",
       "      <td>NaN</td>\n",
       "    </tr>\n",
       "    <tr>\n",
       "      <th>851</th>\n",
       "      <td>2399</td>\n",
       "      <td>[299.0, 299.0, 299.0]</td>\n",
       "      <td>NaN</td>\n",
       "      <td>1010.192566</td>\n",
       "      <td>569.071228</td>\n",
       "      <td>921.609131</td>\n",
       "      <td>NaN</td>\n",
       "    </tr>\n",
       "  </tbody>\n",
       "</table>\n",
       "<p>852 rows × 7 columns</p>\n",
       "</div>"
      ]
     },
     "execution_count": 14,
     "metadata": {},
     "output_type": "execute_result"
    }
   ],
   "execution_count": 14
  },
  {
   "metadata": {
    "ExecuteTime": {
     "end_time": "2024-04-09T02:00:49.975459Z",
     "start_time": "2024-04-09T02:00:49.663212Z"
    }
   },
   "cell_type": "code",
   "source": [
    "# batch_size: 64\n",
    "# dec_hidden_dim_1: 32\n",
    "# dec_hidden_dim_2: 32\n",
    "# device: !!python/object:pytorch_lightning.accelerators.mps.MPSAccelerator {}\n",
    "# dropout: 0.0\n",
    "# enc_hidden_dim_1: 32\n",
    "# enc_hidden_dim_2: 32\n",
    "# learning_rate: 0.0001\n",
    "# num_epochs: 250\n",
    "# seed: 42\n",
    "# split: 0.2"
   ],
   "outputs": [],
   "execution_count": 8
  },
  {
   "cell_type": "code",
   "metadata": {
    "ExecuteTime": {
     "end_time": "2024-04-09T02:16:25.070054Z",
     "start_time": "2024-04-09T02:16:24.415065Z"
    }
   },
   "source": "hpp_df = load_auto_hp_params(\"reports/lightning_logs/knnMoleculeVAE/version_0\")",
   "outputs": [
    {
     "name": "stdout",
     "output_type": "stream",
     "text": [
      "run_0 has 1291 epochs\n",
      "{'batch_size': 64, 'dec_hidden_dim_1': 32, 'dec_hidden_dim_2': 32, 'device': 'mps', 'dropout': 0.0, 'enc_hidden_dim_1': 32, 'enc_hidden_dim_2': 32, 'learning_rate': 0.0001, 'num_epochs': 250, 'seed': 42, 'split': 0.2}\n"
     ]
    }
   ],
   "execution_count": 21
  },
  {
   "cell_type": "code",
   "metadata": {
    "ExecuteTime": {
     "end_time": "2024-04-09T02:16:38.703455Z",
     "start_time": "2024-04-09T02:16:38.554753Z"
    }
   },
   "source": [
    "fig,ax = plt.subplots(figsize=(12,5))\n",
    "pcd = Parallel_Coordinates(df=hpp_df, best_itr=45,ax=ax).plot()\n",
    "plt.tight_layout()\n",
    "# plt.savefig(\"images/hyperparams.png\", dpi=200, facecolor='w', edgecolor='none',bbox_inches='tight')\n",
    "# plt.show()"
   ],
   "outputs": [
    {
     "ename": "ZeroDivisionError",
     "evalue": "float division by zero",
     "output_type": "error",
     "traceback": [
      "\u001B[0;31m---------------------------------------------------------------------------\u001B[0m",
      "\u001B[0;31mZeroDivisionError\u001B[0m                         Traceback (most recent call last)",
      "Cell \u001B[0;32mIn[23], line 2\u001B[0m\n\u001B[1;32m      1\u001B[0m fig,ax \u001B[38;5;241m=\u001B[39m plt\u001B[38;5;241m.\u001B[39msubplots(figsize\u001B[38;5;241m=\u001B[39m(\u001B[38;5;241m12\u001B[39m,\u001B[38;5;241m5\u001B[39m))\n\u001B[0;32m----> 2\u001B[0m pcd \u001B[38;5;241m=\u001B[39m \u001B[43mParallel_Coordinates\u001B[49m\u001B[43m(\u001B[49m\u001B[43mdf\u001B[49m\u001B[38;5;241;43m=\u001B[39;49m\u001B[43mhpp_df\u001B[49m\u001B[43m,\u001B[49m\u001B[43m \u001B[49m\u001B[43mbest_itr\u001B[49m\u001B[38;5;241;43m=\u001B[39;49m\u001B[38;5;241;43m45\u001B[39;49m\u001B[43m,\u001B[49m\u001B[43max\u001B[49m\u001B[38;5;241;43m=\u001B[39;49m\u001B[43max\u001B[49m\u001B[43m)\u001B[49m\u001B[38;5;241;43m.\u001B[39;49m\u001B[43mplot\u001B[49m\u001B[43m(\u001B[49m\u001B[43m)\u001B[49m\n\u001B[1;32m      3\u001B[0m plt\u001B[38;5;241m.\u001B[39mtight_layout()\n\u001B[1;32m      4\u001B[0m \u001B[38;5;66;03m# plt.savefig(\"images/hyperparams.png\", dpi=200, facecolor='w', edgecolor='none',bbox_inches='tight')\u001B[39;00m\n\u001B[1;32m      5\u001B[0m \u001B[38;5;66;03m# plt.show()\u001B[39;00m\n",
      "File \u001B[0;32m~/Documents/GitHub/knnGuidedDesign/src/viz/plotters.py:441\u001B[0m, in \u001B[0;36mParallel_Coordinates.plot\u001B[0;34m(self)\u001B[0m\n\u001B[1;32m    439\u001B[0m \u001B[38;5;28;01mdef\u001B[39;00m \u001B[38;5;21mplot\u001B[39m(\u001B[38;5;28mself\u001B[39m):\n\u001B[1;32m    440\u001B[0m     \u001B[38;5;28mself\u001B[39m\u001B[38;5;241m.\u001B[39mwrap_xlabel_strings()\n\u001B[0;32m--> 441\u001B[0m     \u001B[38;5;28;43mself\u001B[39;49m\u001B[38;5;241;43m.\u001B[39;49m\u001B[43mtransforms\u001B[49m\u001B[43m(\u001B[49m\u001B[43m)\u001B[49m\n\u001B[1;32m    442\u001B[0m     \u001B[38;5;28mself\u001B[39m\u001B[38;5;241m.\u001B[39mcreate_axes()\n\u001B[1;32m    443\u001B[0m     \u001B[38;5;28mself\u001B[39m\u001B[38;5;241m.\u001B[39mplot_curves()\n",
      "File \u001B[0;32m~/Documents/GitHub/knnGuidedDesign/src/viz/plotters.py:390\u001B[0m, in \u001B[0;36mParallel_Coordinates.transforms\u001B[0;34m(self)\u001B[0m\n\u001B[1;32m    388\u001B[0m zs \u001B[38;5;241m=\u001B[39m np\u001B[38;5;241m.\u001B[39mzeros_like(ys)\n\u001B[1;32m    389\u001B[0m zs[:, \u001B[38;5;241m0\u001B[39m] \u001B[38;5;241m=\u001B[39m ys[:, \u001B[38;5;241m0\u001B[39m]\n\u001B[0;32m--> 390\u001B[0m zs[:, \u001B[38;5;241m1\u001B[39m:] \u001B[38;5;241m=\u001B[39m \u001B[43m(\u001B[49m\u001B[43mys\u001B[49m\u001B[43m[\u001B[49m\u001B[43m:\u001B[49m\u001B[43m,\u001B[49m\u001B[43m \u001B[49m\u001B[38;5;241;43m1\u001B[39;49m\u001B[43m:\u001B[49m\u001B[43m]\u001B[49m\u001B[43m \u001B[49m\u001B[38;5;241;43m-\u001B[39;49m\u001B[43m \u001B[49m\u001B[43mymins\u001B[49m\u001B[43m[\u001B[49m\u001B[38;5;241;43m1\u001B[39;49m\u001B[43m:\u001B[49m\u001B[43m]\u001B[49m\u001B[43m)\u001B[49m\u001B[43m \u001B[49m\u001B[38;5;241;43m/\u001B[39;49m\u001B[43m \u001B[49m\u001B[43mdys\u001B[49m\u001B[43m[\u001B[49m\u001B[38;5;241;43m1\u001B[39;49m\u001B[43m:\u001B[49m\u001B[43m]\u001B[49m \u001B[38;5;241m*\u001B[39m dys[\u001B[38;5;241m0\u001B[39m] \u001B[38;5;241m+\u001B[39m ymins[\u001B[38;5;241m0\u001B[39m]\n\u001B[1;32m    392\u001B[0m \u001B[38;5;28mself\u001B[39m\u001B[38;5;241m.\u001B[39mzs \u001B[38;5;241m=\u001B[39m zs\n",
      "\u001B[0;31mZeroDivisionError\u001B[0m: float division by zero"
     ]
    },
    {
     "data": {
      "text/plain": [
       "<Figure size 1200x500 with 1 Axes>"
      ],
      "image/png": "[encoded data removed]"
     },
     "metadata": {},
     "output_type": "display_data"
    }
   ],
   "execution_count": 23
  },
  {
   "metadata": {},
   "cell_type": "code",
   "outputs": [],
   "execution_count": null,
   "source": ""
  }
 ],
 "metadata": {
  "kernelspec": {
   "display_name": "knnMoleSearch",
   "language": "python",
   "name": "python3"
  },
  "language_info": {
   "codemirror_mode": {
    "name": "ipython",
    "version": 3
   },
   "file_extension": ".py",
   "mimetype": "text/x-python",
   "name": "python",
   "nbconvert_exporter": "python",
   "pygments_lexer": "ipython3",
   "version": "3.8.19"
  }
 },
 "nbformat": 4,
 "nbformat_minor": 2
}
